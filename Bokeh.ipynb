{
  "cells": [
    {
      "cell_type": "markdown",
      "metadata": {
        "id": "view-in-github",
        "colab_type": "text"
      },
      "source": [
        "<a href=\"https://colab.research.google.com/github/DIVYA14797/pandas/blob/main/Bokeh.ipynb\" target=\"_parent\"><img src=\"https://colab.research.google.com/assets/colab-badge.svg\" alt=\"Open In Colab\"/></a>"
      ]
    },
    {
      "cell_type": "code",
      "execution_count": null,
      "metadata": {
        "id": "woGlfaM9HRFz"
      },
      "outputs": [],
      "source": []
    },
    {
      "cell_type": "markdown",
      "metadata": {
        "id": "eJYQa2nVHViF"
      },
      "source": [
        "1. How can you create a Bokeh plot using Python code ?\n",
        "\n"
      ]
    },
    {
      "cell_type": "code",
      "execution_count": null,
      "metadata": {
        "colab": {
          "base_uri": "https://localhost:8080/"
        },
        "id": "voBuN9SdHfUJ",
        "outputId": "3ea0ba3e-68f7-4101-a32a-51cc04de84d0"
      },
      "outputs": [
        {
          "name": "stdout",
          "output_type": "stream",
          "text": [
            "Requirement already satisfied: bokeh in /usr/local/lib/python3.10/dist-packages (3.3.4)\n",
            "Requirement already satisfied: Jinja2>=2.9 in /usr/local/lib/python3.10/dist-packages (from bokeh) (3.1.3)\n",
            "Requirement already satisfied: contourpy>=1 in /usr/local/lib/python3.10/dist-packages (from bokeh) (1.2.1)\n",
            "Requirement already satisfied: numpy>=1.16 in /usr/local/lib/python3.10/dist-packages (from bokeh) (1.25.2)\n",
            "Requirement already satisfied: packaging>=16.8 in /usr/local/lib/python3.10/dist-packages (from bokeh) (24.0)\n",
            "Requirement already satisfied: pandas>=1.2 in /usr/local/lib/python3.10/dist-packages (from bokeh) (2.0.3)\n",
            "Requirement already satisfied: pillow>=7.1.0 in /usr/local/lib/python3.10/dist-packages (from bokeh) (9.4.0)\n",
            "Requirement already satisfied: PyYAML>=3.10 in /usr/local/lib/python3.10/dist-packages (from bokeh) (6.0.1)\n",
            "Requirement already satisfied: tornado>=5.1 in /usr/local/lib/python3.10/dist-packages (from bokeh) (6.3.3)\n",
            "Requirement already satisfied: xyzservices>=2021.09.1 in /usr/local/lib/python3.10/dist-packages (from bokeh) (2024.4.0)\n",
            "Requirement already satisfied: MarkupSafe>=2.0 in /usr/local/lib/python3.10/dist-packages (from Jinja2>=2.9->bokeh) (2.1.5)\n",
            "Requirement already satisfied: python-dateutil>=2.8.2 in /usr/local/lib/python3.10/dist-packages (from pandas>=1.2->bokeh) (2.8.2)\n",
            "Requirement already satisfied: pytz>=2020.1 in /usr/local/lib/python3.10/dist-packages (from pandas>=1.2->bokeh) (2023.4)\n",
            "Requirement already satisfied: tzdata>=2022.1 in /usr/local/lib/python3.10/dist-packages (from pandas>=1.2->bokeh) (2024.1)\n",
            "Requirement already satisfied: six>=1.5 in /usr/local/lib/python3.10/dist-packages (from python-dateutil>=2.8.2->pandas>=1.2->bokeh) (1.16.0)\n"
          ]
        }
      ],
      "source": [
        "pip install bokeh"
      ]
    },
    {
      "cell_type": "code",
      "execution_count": null,
      "metadata": {
        "id": "VoU1cGlRHo2P"
      },
      "outputs": [],
      "source": [
        "from bokeh.plotting import figure, output_file, show\n",
        "\n",
        "# Define some data\n",
        "x = [1, 2, 3, 4, 5]\n",
        "y = [6, 7, 2, 4, 5]\n",
        "\n",
        "# Output to a static HTML file\n",
        "output_file(\"line.html\")\n",
        "\n",
        "# Create a new plot with a title and axis labels\n",
        "p = figure(title=\"Simple Line Plot\", x_axis_label='x', y_axis_label='y')\n",
        "\n",
        "# Add a line renderer with legend and line thickness\n",
        "p.line(x, y, legend_label=\"Line\", line_width=2)\n",
        "\n",
        "# Show the result\n",
        "show(p)"
      ]
    },
    {
      "cell_type": "code",
      "execution_count": null,
      "metadata": {
        "id": "i-1mo64FIVd9"
      },
      "outputs": [],
      "source": []
    },
    {
      "cell_type": "markdown",
      "metadata": {
        "id": "yu_b11JlIV4i"
      },
      "source": [
        "2. What are glyphs in Bokeh , and how can you add them to a Bokeh plot ? Explain with an example .\n",
        "\n"
      ]
    },
    {
      "cell_type": "markdown",
      "metadata": {
        "id": "SAhWVzOqIlU7"
      },
      "source": [
        "Glyphs in Bokeh are visual markers or shapes that can be added to a plot to represent data points. Bokeh provides a variety of glyphs such as circles, squares, triangles, lines, and more, which can be customized with different attributes like size, color, and transparency.\n",
        "\n",
        "To add glyphs to a Bokeh plot, you typically create a new glyph renderer using the appropriate glyph function (e.g., circle, square, line, etc.) and then add it to the plot using the add_glyph method of the figure object.\n",
        "\n",
        "Here's an example of how to add glyphs to a Bokeh plot:"
      ]
    },
    {
      "cell_type": "code",
      "execution_count": null,
      "metadata": {
        "id": "OfXABf9iIoMb"
      },
      "outputs": [],
      "source": [
        "from bokeh.plotting import figure, output_file, show\n",
        "\n",
        "# Define some data\n",
        "x = [1, 2, 3, 4, 5]\n",
        "y = [6, 7, 2, 4, 5]\n",
        "\n",
        "# Output to a static HTML file\n",
        "output_file(\"glyphs.html\")\n",
        "\n",
        "# Create a new plot with a title and axis labels\n",
        "p = figure(title=\"Glyphs Example\", x_axis_label='x', y_axis_label='y')\n",
        "\n",
        "# Add circles glyph\n",
        "p.circle(x, y, size=10, color=\"navy\", alpha=0.5)\n",
        "\n",
        "# Add squares glyph\n",
        "p.square(x, y, size=12, color=\"firebrick\", alpha=0.6)\n",
        "\n",
        "# Add triangles glyph\n",
        "p.triangle(x, y, size=14, color=\"green\", alpha=0.8)\n",
        "\n",
        "# Add a line glyph\n",
        "p.line(x, y, line_width=2, color=\"orange\")\n",
        "\n",
        "# Show the result\n",
        "show(p)"
      ]
    },
    {
      "cell_type": "code",
      "execution_count": null,
      "metadata": {
        "id": "OzmScYZfI4ye"
      },
      "outputs": [],
      "source": []
    },
    {
      "cell_type": "markdown",
      "metadata": {
        "id": "ua8mnlqYI5DM"
      },
      "source": [
        "3. How can you customize the appearance of a Bokeh plot , including the axes , title , and legend ?"
      ]
    },
    {
      "cell_type": "markdown",
      "metadata": {
        "id": "plZZxyhXI7ZE"
      },
      "source": [
        "1. Customize the title:\n",
        " * Set the title attribute of the figure object to change the title text.\n",
        " * Use attributes like title_text_font, title_text_font_size, title_text_color, etc., to customize the font, size, and color of the title text.\n",
        "\n",
        "2. Customize the axes:\n",
        " * Set the x_axis_label and y_axis_label attributes of the figure object to change the labels of the x-axis and y-axis, respectively.\n",
        " * Customize the appearance of axis labels using attributes like axis_label_text_font, axis_label_text_font_size, axis_label_text_color, etc.\n",
        " * Set other axis properties such as ticks, tick labels, and grid lines using attributes like xaxis, yaxis, major_tick_line_color, major_tick_line_width, major_tick_line_alpha, etc.\n",
        "\n",
        "3. Customize the legend:\n",
        " *  Add a legend to the plot using the legend attribute of the figure object.\n",
        " * Customize the appearance of the legend using attributes like legend_title, legend_title_text_font, legend_title_text_font_size, legend_label_text_font, legend_label_text_font_size, legend_location, etc.\n",
        " * Control the visibility of the legend using the visible attribute."
      ]
    },
    {
      "cell_type": "code",
      "execution_count": null,
      "metadata": {
        "id": "CyV5tc2OKJ9J"
      },
      "outputs": [],
      "source": [
        "from bokeh.plotting import figure, output_file, show\n",
        "\n",
        "# Define some data\n",
        "x = [1, 2, 3, 4, 5]\n",
        "y = [6, 7, 2, 4, 5]\n",
        "\n",
        "# Output to a static HTML file\n",
        "output_file(\"customized_plot.html\")\n",
        "\n",
        "# Create a new plot with customized title and axis labels\n",
        "p = figure(title=\"Customized Plot\", x_axis_label='X-axis Label', y_axis_label='Y-axis Label')\n",
        "\n",
        "# Customize the appearance of the title\n",
        "p.title.text_color = \"navy\"\n",
        "p.title.text_font_size = \"18pt\"\n",
        "p.title.align = \"center\"\n",
        "\n",
        "# Customize the appearance of the axis labels\n",
        "p.xaxis.axis_label_text_color = \"red\"\n",
        "p.xaxis.axis_label_text_font_style = \"italic\"\n",
        "p.yaxis.axis_label_text_color = \"green\"\n",
        "p.yaxis.axis_label_text_font_style = \"italic\"\n",
        "\n",
        "# Add a line glyph\n",
        "p.line(x, y, line_width=2, color=\"orange\", legend_label=\"Line\")\n",
        "\n",
        "# Customize the appearance of the legend\n",
        "p.legend.title = \"Legend\"\n",
        "p.legend.title_text_font_style = \"bold\"\n",
        "p.legend.title_text_font_size = \"12pt\"\n",
        "p.legend.label_text_font_style = \"italic\"\n",
        "p.legend.label_text_font_size = \"10pt\"\n",
        "p.legend.location = \"top_left\"\n",
        "\n",
        "# Show the result\n",
        "show(p)"
      ]
    },
    {
      "cell_type": "code",
      "execution_count": null,
      "metadata": {
        "id": "b6AJbxWpKLKM"
      },
      "outputs": [],
      "source": []
    },
    {
      "cell_type": "markdown",
      "metadata": {
        "id": "38Hi_VAkKLmp"
      },
      "source": [
        "4. What is  a Bokeh server , and how can you use it to create interactive plots that can be updated in the real time ?\n",
        "\n"
      ]
    },
    {
      "cell_type": "markdown",
      "metadata": {
        "id": "KV2N9x8XKj_l"
      },
      "source": [
        "A Bokeh server is a Python process that hosts Bokeh applications, allowing users to create and serve interactive plots and applications that can be updated in real-time. Bokeh server enables the creation of dynamic and interactive web-based visualizations that can respond to user inputs, streaming data, or other external events.\n",
        "\n",
        "Bokeh applications are typically defined as Python scripts that create Bokeh plots and widgets. These applications can then be deployed on a Bokeh server, which serves the application to web browsers, allowing users to interact with the plots and widgets in real-time.\n",
        "\n",
        "Here's an overview of how we can use a Bokeh server to create interactive plots that can be updated in real-time:\n",
        "\n",
        "1. Define a Bokeh application: Write a Python script that defines a Bokeh application using the bokeh.application module. This application should create Bokeh plots and widgets and specify the layout and interaction behavior of the plots.\n",
        "2. Start a Bokeh server: Use the bokeh.server.server module to start a Bokeh server process. This server will host the Bokeh application and serve it to web browsers.\n",
        "3. Deploy the application: Deploy the Bokeh application on the Bokeh server by passing the application object to the server's applications parameter. Optionally, you can specify the URL path at which the application should be accessible.\n",
        "4. Run the Bokeh server: Run the Bokeh server process using the bokeh.server.server module's run function. This will start the server and make the Bokeh application available to users via a web browser.\n",
        "5. Interact with the plots: Users can interact with the Bokeh plots and widgets in their web browser. The plots can respond to user inputs, streaming data, or other external events, allowing for real-time updates and dynamic behavior."
      ]
    },
    {
      "cell_type": "code",
      "execution_count": null,
      "metadata": {
        "id": "t0hT1OThK0tS"
      },
      "outputs": [],
      "source": []
    },
    {
      "cell_type": "markdown",
      "metadata": {
        "id": "m3ODatRFK1CK"
      },
      "source": [
        "5. How can you embed a Bokeh plot into a web page or dashboard using Flask or Django ?"
      ]
    },
    {
      "cell_type": "markdown",
      "metadata": {
        "id": "QI5Z4Va4LCa9"
      },
      "source": [
        "Both Flask and Django are web frameworks for building web applications in Python. You can embed Bokeh plots into web pages or dashboards created with these frameworks by following these general steps:\n",
        "\n",
        "Using Flask:\n",
        "\n",
        "1. Create a Flask application: Set up a Flask application by creating a Python script that imports Flask and defines routes for different URLs.\n",
        "2. Create a Bokeh plot: Write Python code to create the Bokeh plot using the Bokeh library.\n",
        "3. Serve the Bokeh plot with Flask: Within your Flask routes, embed the Bokeh plot in a template using the bokeh.embed.components function to generate HTML and JavaScript code for the plot.\n",
        "4. Render the template: Return the rendered template as the response to a Flask route, allowing users to view the embedded Bokeh plot in their web browser.\n"
      ]
    },
    {
      "cell_type": "code",
      "execution_count": null,
      "metadata": {
        "colab": {
          "background_save": true,
          "base_uri": "https://localhost:8080/"
        },
        "id": "--hJE_COLWjL",
        "outputId": "58ca3a2d-f7f9-4888-f236-97b631ef33a8"
      },
      "outputs": [
        {
          "name": "stdout",
          "output_type": "stream",
          "text": [
            " * Serving Flask app '__main__'\n",
            " * Debug mode: on\n"
          ]
        },
        {
          "name": "stderr",
          "output_type": "stream",
          "text": [
            "INFO:werkzeug:\u001b[31m\u001b[1mWARNING: This is a development server. Do not use it in a production deployment. Use a production WSGI server instead.\u001b[0m\n",
            " * Running on http://127.0.0.1:5000\n",
            "INFO:werkzeug:\u001b[33mPress CTRL+C to quit\u001b[0m\n",
            "INFO:werkzeug: * Restarting with stat\n"
          ]
        }
      ],
      "source": [
        "from flask import Flask, render_template\n",
        "from bokeh.plotting import figure\n",
        "from bokeh.embed import components\n",
        "\n",
        "app = Flask(__name__)\n",
        "\n",
        "@app.route('/')\n",
        "def index():\n",
        "    # Create a Bokeh plot\n",
        "    p = figure(title=\"Example Bokeh Plot\", x_axis_label='x', y_axis_label='y')\n",
        "    p.line([1, 2, 3, 4, 5], [6, 7, 2, 4, 5], line_width=2)\n",
        "\n",
        "    # Generate HTML and JavaScript components for the plot\n",
        "    script, div = components(p)\n",
        "\n",
        "    # Render the template with the Bokeh plot components\n",
        "    return render_template('index.html', script=script, div=div)\n",
        "\n",
        "if __name__ == '__main__':\n",
        "    app.run(debug=True)"
      ]
    },
    {
      "cell_type": "code",
      "execution_count": null,
      "metadata": {
        "id": "D7w8-4RmLdDr"
      },
      "outputs": [],
      "source": []
    }
  ],
  "metadata": {
    "colab": {
      "provenance": [],
      "authorship_tag": "ABX9TyPVgvBQHqUz/jYaOSHbMCyO",
      "include_colab_link": true
    },
    "kernelspec": {
      "display_name": "Python 3",
      "name": "python3"
    },
    "language_info": {
      "name": "python"
    }
  },
  "nbformat": 4,
  "nbformat_minor": 0
}