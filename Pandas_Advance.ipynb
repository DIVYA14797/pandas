{
  "nbformat": 4,
  "nbformat_minor": 0,
  "metadata": {
    "colab": {
      "provenance": [],
      "authorship_tag": "ABX9TyNKPkv1F4nlBx20q1F4AojJ",
      "include_colab_link": true
    },
    "kernelspec": {
      "name": "python3",
      "display_name": "Python 3"
    },
    "language_info": {
      "name": "python"
    }
  },
  "cells": [
    {
      "cell_type": "markdown",
      "metadata": {
        "id": "view-in-github",
        "colab_type": "text"
      },
      "source": [
        "<a href=\"https://colab.research.google.com/github/DIVYA14797/pandas/blob/main/Pandas_Advance.ipynb\" target=\"_parent\"><img src=\"https://colab.research.google.com/assets/colab-badge.svg\" alt=\"Open In Colab\"/></a>"
      ]
    },
    {
      "cell_type": "code",
      "execution_count": null,
      "metadata": {
        "id": "TlL2SVhKf1ro"
      },
      "outputs": [],
      "source": [
        "import pandas as pd\n",
        "\n",
        "course_name = ['Data Science', 'Machine Learning', 'Big Data', 'Data Engineer']\n",
        "duration = [2, 3, 6, 4]\n",
        "\n",
        "df = pd.DataFrame(data={'course_name': course_name, 'duration': duration})"
      ]
    },
    {
      "cell_type": "markdown",
      "source": [
        "1. Write a code to print the data present in the second row of the dataframe , df .\n",
        "\n"
      ],
      "metadata": {
        "id": "YtUB6Tglf2hN"
      }
    },
    {
      "cell_type": "code",
      "source": [
        "second_row = df.iloc[1]\n",
        "print(second_row)"
      ],
      "metadata": {
        "colab": {
          "base_uri": "https://localhost:8080/"
        },
        "id": "jGSI4t4ygHrU",
        "outputId": "79f0fd0f-d603-43d6-c8aa-38d5607b6003"
      },
      "execution_count": null,
      "outputs": [
        {
          "output_type": "stream",
          "name": "stdout",
          "text": [
            "course_name    Machine Learning\n",
            "duration                      3\n",
            "Name: 1, dtype: object\n"
          ]
        }
      ]
    },
    {
      "cell_type": "code",
      "source": [],
      "metadata": {
        "id": "M_WLE3owgX3o"
      },
      "execution_count": null,
      "outputs": []
    },
    {
      "cell_type": "markdown",
      "source": [
        "2. What is the difference between the functions loc and iloc  in pandas .DataFrame ?\n",
        "\n"
      ],
      "metadata": {
        "id": "NCKcgt_-gYT-"
      }
    },
    {
      "cell_type": "markdown",
      "source": [
        "1. loc: This is label-based indexing. It allows you to access data using labels or indexes based on the row and column labels. When you use loc, you refer to the explicit index of the DataFrame. You can use row and column labels to extract data.\n",
        "\n",
        "Example:"
      ],
      "metadata": {
        "id": "fomD4nxNgjzw"
      }
    },
    {
      "cell_type": "code",
      "source": [
        "df.loc[2]\n",
        "df.loc[:, 'duration']\n",
        "df.loc[2, 'duration']"
      ],
      "metadata": {
        "colab": {
          "base_uri": "https://localhost:8080/"
        },
        "id": "MN-mXLA-gz8K",
        "outputId": "bdf2da2b-2ad3-4590-acad-d03d4fa56f04"
      },
      "execution_count": null,
      "outputs": [
        {
          "output_type": "execute_result",
          "data": {
            "text/plain": [
              "6"
            ]
          },
          "metadata": {},
          "execution_count": 4
        }
      ]
    },
    {
      "cell_type": "markdown",
      "source": [
        "2. iloc: This is integer-based indexing. It allows you to access data using integer positions of the rows and columns. When you use iloc, you refer to the implicit Python-style index (0-based integer position) of the DataFrame. You can use integer positions to extract data.\n",
        "\n",
        "Example:"
      ],
      "metadata": {
        "id": "w38cUIUAhS21"
      }
    },
    {
      "cell_type": "code",
      "source": [
        "df.iloc[1]\n",
        "df.iloc[:, 1]\n",
        "df.iloc[1, 1]"
      ],
      "metadata": {
        "colab": {
          "base_uri": "https://localhost:8080/"
        },
        "id": "V3Jv2f0thZr9",
        "outputId": "245182fb-289a-4240-9cfb-118c92c2a168"
      },
      "execution_count": null,
      "outputs": [
        {
          "output_type": "execute_result",
          "data": {
            "text/plain": [
              "3"
            ]
          },
          "metadata": {},
          "execution_count": 5
        }
      ]
    },
    {
      "cell_type": "code",
      "source": [],
      "metadata": {
        "id": "mlj_94-5hsnP"
      },
      "execution_count": null,
      "outputs": []
    },
    {
      "cell_type": "markdown",
      "source": [
        "3. Reindex the given dataframe using a variable , reindex = [3,0,1,2] and store it in the variable , new_df then find the output for both new_df.loc[2] and new_df.iloc[2] .   Did you observe any difference in both the outputs ? If so then explain it ."
      ],
      "metadata": {
        "id": "6tJt0CjWhs7X"
      }
    },
    {
      "cell_type": "code",
      "source": [
        "reindex = [3, 0, 1, 2]\n",
        "new_df = df.reindex(reindex)\n",
        "\n",
        "# Output for new_df.loc[2] and new_df.iloc[2]\n",
        "print(\"Output for new_df.loc[2]:\")\n",
        "print(new_df.loc[2])\n",
        "print(\"\\nOutput for new_df.iloc[2]:\")\n",
        "print(new_df.iloc[2])"
      ],
      "metadata": {
        "colab": {
          "base_uri": "https://localhost:8080/"
        },
        "id": "rsz8spRRh2Yx",
        "outputId": "6cc9ad96-0fe4-4ba6-da09-a952d1fe0f85"
      },
      "execution_count": null,
      "outputs": [
        {
          "output_type": "stream",
          "name": "stdout",
          "text": [
            "Output for new_df.loc[2]:\n",
            "course_name    Big Data\n",
            "duration              6\n",
            "Name: 2, dtype: object\n",
            "\n",
            "Output for new_df.iloc[2]:\n",
            "course_name    Machine Learning\n",
            "duration                      3\n",
            "Name: 1, dtype: object\n"
          ]
        }
      ]
    },
    {
      "cell_type": "code",
      "source": [],
      "metadata": {
        "id": "ELCEw751iAOt"
      },
      "execution_count": null,
      "outputs": []
    },
    {
      "cell_type": "code",
      "source": [
        "import pandas as pd\n",
        "import numpy as np\n",
        "columns = ['column_1' , 'column_2', 'column_3','column_4' , 'column_5', 'column_6']\n",
        "indices =[1,2,3,4,5,6]\n",
        "# Creating a dataframe :\n",
        "df1 = pd.DataFrame(np.random.rand(6,6),columns=columns , index=indices)"
      ],
      "metadata": {
        "id": "IhxAvDMKiLZ1"
      },
      "execution_count": null,
      "outputs": []
    },
    {
      "cell_type": "markdown",
      "source": [
        "4. Write a code to find the following statistical measurements for the above dataframe df1 :  \n",
        "(i) mean of each and every column present in the dataframe .  \n",
        "(ii) standard deviation of column , 'column_2'\n",
        "\n"
      ],
      "metadata": {
        "id": "yfntwhcWqktV"
      }
    },
    {
      "cell_type": "code",
      "source": [
        "# (i) Mean of each column\n",
        "column_means = df1.mean()\n",
        "print(\"Mean of each column:\")\n",
        "print(column_means)\n",
        "\n",
        "# (ii) Standard deviation of column 'column_2'\n",
        "std_column_2 = df1['column_2'].std()\n",
        "print(\"\\nStandard deviation of column 'column_2':\", std_column_2)"
      ],
      "metadata": {
        "colab": {
          "base_uri": "https://localhost:8080/"
        },
        "id": "_uwSjJOuqv9W",
        "outputId": "1b1b1dec-19d0-4750-d09d-0076ddef3432"
      },
      "execution_count": null,
      "outputs": [
        {
          "output_type": "stream",
          "name": "stdout",
          "text": [
            "Mean of each column:\n",
            "column_1    0.497236\n",
            "column_2    0.426126\n",
            "column_3    0.351376\n",
            "column_4    0.415560\n",
            "column_5    0.344717\n",
            "column_6    0.524644\n",
            "dtype: float64\n",
            "\n",
            "Standard deviation of column 'column_2': 0.3374912788481544\n"
          ]
        }
      ]
    },
    {
      "cell_type": "code",
      "source": [],
      "metadata": {
        "id": "weIg8MgmqzSv"
      },
      "execution_count": null,
      "outputs": []
    },
    {
      "cell_type": "markdown",
      "source": [
        "5. Replace the data present in the second row of column , 'column_2' by a string variable then find the mean of column ,column_2 .   \n",
        "\n",
        "If you are getting errors  in executing it then explain why .\n",
        "\n"
      ],
      "metadata": {
        "id": "4KsZIqz4qzpY"
      }
    },
    {
      "cell_type": "code",
      "source": [
        "df1.at[2, 'column_2'] = 10  # For example, replacing with 10\n",
        "\n",
        "# Find the mean of column 'column_2'\n",
        "mean_column_2 = df1['column_2'].mean()\n",
        "print(\"Mean of column 'column_2':\", mean_column_2)"
      ],
      "metadata": {
        "colab": {
          "base_uri": "https://localhost:8080/"
        },
        "id": "R4qvybKprC8Z",
        "outputId": "8823675b-c07d-4103-f2ec-afdf055c1c02"
      },
      "execution_count": null,
      "outputs": [
        {
          "output_type": "stream",
          "name": "stdout",
          "text": [
            "Mean of column 'column_2': 2.0875892028654595\n"
          ]
        }
      ]
    },
    {
      "cell_type": "code",
      "source": [],
      "metadata": {
        "id": "ToMp3hMhrFuz"
      },
      "execution_count": null,
      "outputs": []
    },
    {
      "cell_type": "markdown",
      "source": [
        "6. What do you understand about the windows function in pandas and list the types of windows functions ?\n",
        "\n"
      ],
      "metadata": {
        "id": "XHkguOSWrGFv"
      }
    },
    {
      "cell_type": "markdown",
      "source": [
        "In pandas, the term \"window functions\" refers to operations that are applied over a rolling or expanding window of data in a DataFrame or Series. These functions allow you to perform calculations on a specific subset of data defined by a window, such as moving averages, cumulative sums, or other aggregate functions.\n",
        "\n",
        "Window functions in pandas are implemented using the .rolling() and .expanding() methods for Series, and the .rolling() and .expanding() methods along with the .apply() method for DataFrames.\n",
        "\n",
        "Types of window functions in pandas include:\n",
        "\n",
        "1. Rolling Window Functions:\n",
        "\n",
        "* These functions operate on a fixed-size window of data that moves along the index of the Series or DataFrame.\n",
        "* Examples include:\n",
        " * Moving average (rolling.mean()).\n",
        " * Rolling sum (rolling.sum()).\n",
        " * Rolling standard deviation (rolling.std()).\n",
        " * Rolling min/max (rolling.min(), rolling.max()).\n",
        "\n",
        "2. Expanding Window Functions:\n",
        "\n",
        "* These functions operate on all data points from the start of the Series or DataFrame up to the current point.\n",
        "* The window size expands with each new data point.\n",
        "* Examples include:\n",
        " * Cumulative sum (expanding.sum()).\n",
        " * Cumulative product (expanding.prod()).\n",
        " * Exponentially weighted moving average (ewm functions with adjust=False).\n",
        "\n",
        "3. Window Aggregation Functions:\n",
        "\n",
        "* These functions aggregate data within each window, producing a single value for each window.\n",
        "* Examples include:\n",
        " * Aggregate functions like mean(), sum(), min(), max().\n",
        " * Custom aggregation functions using .apply().\n",
        "\n",
        "These window functions are powerful tools for analyzing time series data, performing rolling calculations, and gaining insights into trends and patterns. They provide flexibility in analyzing data over different time intervals or subsets of data.\n",
        "\n",
        "\n",
        "\n",
        "\n",
        "\n"
      ],
      "metadata": {
        "id": "TkrOeVf1rMCg"
      }
    },
    {
      "cell_type": "code",
      "source": [],
      "metadata": {
        "id": "dLtRtMoxsIbI"
      },
      "execution_count": null,
      "outputs": []
    },
    {
      "cell_type": "markdown",
      "source": [
        "7. What a code to print the current month and year at the time of answering this question ."
      ],
      "metadata": {
        "id": "sPF5OQK9sIz4"
      }
    },
    {
      "cell_type": "code",
      "source": [
        "from datetime import datetime\n",
        "\n",
        "# Get the current date and time\n",
        "current_date = datetime.now()\n",
        "\n",
        "# Extract the current month and year\n",
        "current_month = current_date.month\n",
        "current_year = current_date.year\n",
        "\n",
        "# Print the current month and year\n",
        "print(\"Current month:\", current_month)\n",
        "print(\"Current year:\", current_year)"
      ],
      "metadata": {
        "colab": {
          "base_uri": "https://localhost:8080/"
        },
        "id": "4jZaZW9EsOHU",
        "outputId": "ed51ebb0-15ab-4927-bf8a-355a9df438b0"
      },
      "execution_count": null,
      "outputs": [
        {
          "output_type": "stream",
          "name": "stdout",
          "text": [
            "Current month: 4\n",
            "Current year: 2024\n"
          ]
        }
      ]
    },
    {
      "cell_type": "code",
      "source": [],
      "metadata": {
        "id": "saRMXB0CsRIW"
      },
      "execution_count": null,
      "outputs": []
    },
    {
      "cell_type": "markdown",
      "source": [
        "8. Write a python program that takes in two dates as input (in format YYYY-MM-DD) and calculates the difference between them in days , hours and minutes using Pandas time delta . The program should prompt the user to enter the dates and display the result ,\n",
        "\n"
      ],
      "metadata": {
        "id": "4JPLImmfsRgn"
      }
    },
    {
      "cell_type": "code",
      "source": [
        "import pandas as pd\n",
        "\n",
        "# Function to calculate the difference between two dates\n",
        "def date_difference(start_date, end_date):\n",
        "    # Convert input dates to pandas Timestamp objects\n",
        "    start = pd.to_datetime(start_date)\n",
        "    end = pd.to_datetime(end_date)\n",
        "\n",
        "    # Calculate the time difference\n",
        "    time_diff = end - start\n",
        "\n",
        "    # Extract days, hours, and minutes from the time difference\n",
        "    days = time_diff.days\n",
        "    hours = time_diff.seconds // 3600\n",
        "    minutes = (time_diff.seconds % 3600) // 60\n",
        "\n",
        "    return days, hours, minutes\n",
        "\n",
        "# Main function\n",
        "def main():\n",
        "    # Prompt the user to enter the start and end dates\n",
        "    start_date = input(\"Enter the start date (YYYY-MM-DD): \")\n",
        "    end_date = input(\"Enter the end date (YYYY-MM-DD): \")\n",
        "\n",
        "    # Calculate the difference between the dates\n",
        "    days, hours, minutes = date_difference(start_date, end_date)\n",
        "\n",
        "    # Display the result\n",
        "    print(f\"The difference between the dates is {days} days, {hours} hours, and {minutes} minutes.\")\n",
        "\n",
        "# Call the main function\n",
        "if __name__ == \"__main__\":\n",
        "    main()"
      ],
      "metadata": {
        "colab": {
          "base_uri": "https://localhost:8080/"
        },
        "id": "pQnvrcOysWWX",
        "outputId": "1cee10cd-d8dc-4713-a7d3-59c09cca0eae"
      },
      "execution_count": null,
      "outputs": [
        {
          "output_type": "stream",
          "name": "stdout",
          "text": [
            "Enter the start date (YYYY-MM-DD): 2024-04-16\n",
            "Enter the end date (YYYY-MM-DD): 2024-04-23\n",
            "The difference between the dates is 7 days, 0 hours, and 0 minutes.\n"
          ]
        }
      ]
    },
    {
      "cell_type": "code",
      "source": [],
      "metadata": {
        "id": "X0YCASUwsqn6"
      },
      "execution_count": null,
      "outputs": []
    },
    {
      "cell_type": "markdown",
      "source": [
        "9. Write a Python program that read csv file containing categorical data and convert a specified column to a categorical data type . The program should prompt the user to enter the file path , column name , and category order , and then display the sorted data ."
      ],
      "metadata": {
        "id": "wu_8GCAosrPw"
      }
    },
    {
      "cell_type": "code",
      "source": [
        "import pandas as pd\n",
        "\n",
        "# Function to read CSV file, convert specified column to categorical, and display sorted data\n",
        "def process_csv(file_path, column_name, category_order):\n",
        "    # Read the CSV file into a DataFrame\n",
        "    df = pd.read_csv(file_path)\n",
        "\n",
        "    # Convert the specified column to categorical data type\n",
        "    df[column_name] = pd.Categorical(df[column_name], categories=category_order, ordered=True)\n",
        "\n",
        "    # Display the sorted data\n",
        "    sorted_df = df.sort_values(by=[column_name])\n",
        "    print(sorted_df)\n",
        "\n",
        "# Main function\n",
        "def main():\n",
        "    # Prompt the user to enter the file path, column name, and category order\n",
        "    file_path = input(\"Enter the file path of the CSV file: \")\n",
        "    column_name = input(\"Enter the name of the column to convert to categorical: \")\n",
        "    category_order = input(\"Enter the category order (comma-separated): \").split(\",\")\n",
        "\n",
        "    # Process the CSV file\n",
        "    process_csv(file_path, column_name, category_order)\n",
        "\n",
        "# Call the main function\n",
        "if __name__ == \"__main__\":\n",
        "    main()"
      ],
      "metadata": {
        "id": "OVQbSuC9t4e-"
      },
      "execution_count": null,
      "outputs": []
    },
    {
      "cell_type": "code",
      "source": [],
      "metadata": {
        "id": "xVLTK4eX20gk"
      },
      "execution_count": null,
      "outputs": []
    },
    {
      "cell_type": "markdown",
      "source": [
        "10. Write a Python program that reads a csv file containing sales data for different products and visualizes the data using stacked bar chart to show the sales of each product category overtime . The program should prompt the user to enter the file path and display the chart ."
      ],
      "metadata": {
        "id": "37_Pgt2ht5HM"
      }
    },
    {
      "cell_type": "code",
      "source": [
        "import pandas as pd\n",
        "import matplotlib.pyplot as plt\n",
        "\n",
        "# Function to read CSV file and visualize sales data using stacked bar chart\n",
        "def visualize_sales(file_path):\n",
        "    # Read the CSV file into a DataFrame\n",
        "    df = pd.read_csv(file_path)\n",
        "\n",
        "    # Convert the 'Date' column to datetime\n",
        "    df['Date'] = pd.to_datetime(df['Date'])\n",
        "\n",
        "    # Group the data by product category and date, and calculate the sum of sales\n",
        "    grouped_data = df.groupby(['Date', 'Product_Category'])['Sales'].sum().unstack()\n",
        "\n",
        "    # Plot the stacked bar chart\n",
        "    grouped_data.plot(kind='bar', stacked=True, figsize=(10, 6))\n",
        "    plt.title('Sales of Each Product Category Over Time')\n",
        "    plt.xlabel('Date')\n",
        "    plt.ylabel('Sales')\n",
        "    plt.xticks(rotation=45)\n",
        "    plt.legend(title='Product Category', bbox_to_anchor=(1.05, 1), loc='upper left')\n",
        "\n",
        "    # Show the plot\n",
        "    plt.tight_layout()\n",
        "    plt.show()\n",
        "\n",
        "# Main function\n",
        "def main():\n",
        "    # Prompt the user to enter the file path of the CSV file\n",
        "    file_path = input(\"Enter the file path of the CSV file: \")\n",
        "\n",
        "    # Visualize sales data\n",
        "    visualize_sales(file_path)\n",
        "\n",
        "# Call the main function\n",
        "if __name__ == \"__main__\":\n",
        "    main()"
      ],
      "metadata": {
        "id": "VjI9OsJqt9ry"
      },
      "execution_count": null,
      "outputs": []
    },
    {
      "cell_type": "code",
      "source": [],
      "metadata": {
        "id": "E-d_olc5uD2r"
      },
      "execution_count": null,
      "outputs": []
    },
    {
      "cell_type": "markdown",
      "source": [
        "11. You are given a CSV file containing student data that includes the student ID and their test score . Write a python program that reads the CSV file , calculates the mean ,median , and mode of the test scores , and displays the results in a table .\n",
        "ChatGPT\n"
      ],
      "metadata": {
        "id": "5vr0YeEEuEiz"
      }
    },
    {
      "cell_type": "code",
      "source": [
        "import pandas as pd\n",
        "from scipy import stats\n",
        "\n",
        "# Function to calculate mean, median, and mode of test scores\n",
        "def calculate_statistics(file_path):\n",
        "    # Read the CSV file into a DataFrame\n",
        "    df = pd.read_csv(file_path)\n",
        "\n",
        "    # Calculate mean, median, and mode of test scores\n",
        "    mean_score = df['Test_Score'].mean()\n",
        "    median_score = df['Test_Score'].median()\n",
        "    mode_score = stats.mode(df['Test_Score'])[0][0]\n",
        "\n",
        "    # Create a DataFrame to display the results\n",
        "    results_df = pd.DataFrame({\n",
        "        'Statistic': ['Mean', 'Median', 'Mode'],\n",
        "        'Value': [mean_score, median_score, mode_score]\n",
        "    })\n",
        "\n",
        "    return results_df\n",
        "\n",
        "# Main function\n",
        "def main():\n",
        "    # Prompt the user to enter the file path of the CSV file\n",
        "    file_path = input(\"Enter the file path of the CSV file: \")\n",
        "\n",
        "    # Calculate statistics\n",
        "    results_df = calculate_statistics(file_path)\n",
        "\n",
        "    # Display the results\n",
        "    print(\"Statistics of Test Scores:\")\n",
        "    print(results_df)\n",
        "\n",
        "# Call the main function\n",
        "if __name__ == \"__main__\":\n",
        "    main()"
      ],
      "metadata": {
        "id": "Fc_jdrzeuJH5"
      },
      "execution_count": null,
      "outputs": []
    }
  ]
}