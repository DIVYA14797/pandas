{
  "nbformat": 4,
  "nbformat_minor": 0,
  "metadata": {
    "colab": {
      "provenance": [],
      "authorship_tag": "ABX9TyNRpOXzg72uS2nWLbr9z7LN",
      "include_colab_link": true
    },
    "kernelspec": {
      "name": "python3",
      "display_name": "Python 3"
    },
    "language_info": {
      "name": "python"
    }
  },
  "cells": [
    {
      "cell_type": "markdown",
      "metadata": {
        "id": "view-in-github",
        "colab_type": "text"
      },
      "source": [
        "<a href=\"https://colab.research.google.com/github/DIVYA14797/pandas/blob/main/pandas_basic.ipynb\" target=\"_parent\"><img src=\"https://colab.research.google.com/assets/colab-badge.svg\" alt=\"Open In Colab\"/></a>"
      ]
    },
    {
      "cell_type": "code",
      "execution_count": null,
      "metadata": {
        "id": "-rYLSu8eUMhj"
      },
      "outputs": [],
      "source": []
    },
    {
      "cell_type": "markdown",
      "source": [
        "1. Create a pandas series that contains the following data : 4,8,15,16,23, and 42 . Then , print the series ."
      ],
      "metadata": {
        "id": "aIYxUZaiUNk4"
      }
    },
    {
      "cell_type": "code",
      "source": [
        "import pandas as pd\n",
        "\n",
        "# Create a Pandas Series\n",
        "data = [4, 8, 15, 16, 23, 42]\n",
        "series = pd.Series(data)\n",
        "\n",
        "# Print the Series\n",
        "print(series)"
      ],
      "metadata": {
        "colab": {
          "base_uri": "https://localhost:8080/"
        },
        "id": "N851VGr9URGt",
        "outputId": "4bc29299-f419-4196-c568-863f6b91a690"
      },
      "execution_count": null,
      "outputs": [
        {
          "output_type": "stream",
          "name": "stdout",
          "text": [
            "0     4\n",
            "1     8\n",
            "2    15\n",
            "3    16\n",
            "4    23\n",
            "5    42\n",
            "dtype: int64\n"
          ]
        }
      ]
    },
    {
      "cell_type": "code",
      "source": [],
      "metadata": {
        "id": "9c2kADOHUYQS"
      },
      "execution_count": null,
      "outputs": []
    },
    {
      "cell_type": "markdown",
      "source": [
        "2. Create a variable of list type containing 10 elements in it , and apply pandas.Series function on the variable print it .\n",
        "\n"
      ],
      "metadata": {
        "id": "07WwvBY-UYoP"
      }
    },
    {
      "cell_type": "code",
      "source": [
        "import pandas as pd\n",
        "\n",
        "# Create a list containing 10 elements\n",
        "my_list = [1, 2, 3, 4, 5, 6, 7, 8, 9, 10]\n",
        "\n",
        "# Apply pd.Series() function on the list\n",
        "series = pd.Series(my_list)\n",
        "\n",
        "# Print the Series\n",
        "print(series)"
      ],
      "metadata": {
        "colab": {
          "base_uri": "https://localhost:8080/"
        },
        "id": "60xBbThFUesm",
        "outputId": "d6b8d86e-7fbc-49e3-d55b-9dd3435e2f87"
      },
      "execution_count": null,
      "outputs": [
        {
          "output_type": "stream",
          "name": "stdout",
          "text": [
            "0     1\n",
            "1     2\n",
            "2     3\n",
            "3     4\n",
            "4     5\n",
            "5     6\n",
            "6     7\n",
            "7     8\n",
            "8     9\n",
            "9    10\n",
            "dtype: int64\n"
          ]
        }
      ]
    },
    {
      "cell_type": "code",
      "source": [],
      "metadata": {
        "id": "e4oA2jUEUkz8"
      },
      "execution_count": null,
      "outputs": []
    },
    {
      "cell_type": "markdown",
      "source": [
        "3. Create a pandas DataFrame that contains the following data:\n",
        "\n",
        "Name - Alice , Bob , Claire           \n",
        "Age - 25,30,27          \n",
        "Gender -Female , Male , Female            \n",
        "\n",
        "then print the DtataFrame .\n",
        "\n"
      ],
      "metadata": {
        "id": "ejindsmRUlNK"
      }
    },
    {
      "cell_type": "code",
      "source": [
        "import pandas as pd\n",
        "\n",
        "# Create a dictionary with the provided data\n",
        "data = {\n",
        "    'Name': ['Alice', 'Bob', 'Claire'],\n",
        "    'Age': [25, 30, 27],\n",
        "    'Gender': ['Female', 'Male', 'Female']\n",
        "}\n",
        "\n",
        "# Create a Pandas DataFrame from the dictionary\n",
        "df = pd.DataFrame(data)\n",
        "\n",
        "# Print the DataFrame\n",
        "print(df)"
      ],
      "metadata": {
        "colab": {
          "base_uri": "https://localhost:8080/"
        },
        "id": "FCyBbAjEVCG0",
        "outputId": "bc0334a7-fe15-4ee2-d67e-79075ed7390f"
      },
      "execution_count": null,
      "outputs": [
        {
          "output_type": "stream",
          "name": "stdout",
          "text": [
            "     Name  Age  Gender\n",
            "0   Alice   25  Female\n",
            "1     Bob   30    Male\n",
            "2  Claire   27  Female\n"
          ]
        }
      ]
    },
    {
      "cell_type": "code",
      "source": [],
      "metadata": {
        "id": "VYvJfVsOVGe3"
      },
      "execution_count": null,
      "outputs": []
    },
    {
      "cell_type": "markdown",
      "source": [
        "4. What is 'DataFrame ' in pandas and how is it different from pandas.series ? Explain with an example ."
      ],
      "metadata": {
        "id": "BUmCftoDVHEO"
      }
    },
    {
      "cell_type": "markdown",
      "source": [
        "In Pandas, a DataFrame is a 2-dimensional labeled data structure with columns of potentially different types. It is similar to a spreadsheet or SQL table, where data is organized into rows and columns. Each column in a DataFrame represents a different variable, while each row represents a different observation or record.\n",
        "\n",
        "On the other hand, a Pandas Series is a one-dimensional labeled array capable of holding data of any type (integer, string, float, etc.). It can be thought of as a single column of data in a DataFrame.\n",
        "\n",
        "Here's an example to illustrate the difference between a DataFrame and a Series:"
      ],
      "metadata": {
        "id": "k5BqI5UhVT4k"
      }
    },
    {
      "cell_type": "code",
      "source": [
        "# Example data for DataFrame\n",
        "data = {\n",
        "    'Name': ['Alice', 'Bob', 'Claire'],\n",
        "    'Age': [25, 30, 27],\n",
        "    'Gender': ['Female', 'Male', 'Female']\n",
        "}\n",
        "\n",
        "# Creating a DataFrame\n",
        "df = pd.DataFrame(data)\n",
        "\n",
        "# Example data for Series\n",
        "ages = pd.Series([25, 30, 27], name='Age')\n",
        "\n",
        "# Print the DataFrame\n",
        "print(\"DataFrame:\")\n",
        "print(df)\n",
        "\n",
        "# Print the Series\n",
        "print(\"\\nSeries:\")\n",
        "print(ages)"
      ],
      "metadata": {
        "colab": {
          "base_uri": "https://localhost:8080/"
        },
        "id": "BgAzWWV3VbA7",
        "outputId": "83993860-8221-4611-a5a8-26e2798b5769"
      },
      "execution_count": null,
      "outputs": [
        {
          "output_type": "stream",
          "name": "stdout",
          "text": [
            "DataFrame:\n",
            "     Name  Age  Gender\n",
            "0   Alice   25  Female\n",
            "1     Bob   30    Male\n",
            "2  Claire   27  Female\n",
            "\n",
            "Series:\n",
            "0    25\n",
            "1    30\n",
            "2    27\n",
            "Name: Age, dtype: int64\n"
          ]
        }
      ]
    },
    {
      "cell_type": "code",
      "source": [],
      "metadata": {
        "id": "02J-QkivVpsC"
      },
      "execution_count": null,
      "outputs": []
    },
    {
      "cell_type": "markdown",
      "source": [
        "5. What are some common functions you use to manipulate data in pandas DataFrame ? Can you give an example of when you might use one of these functions ?\n",
        "\n"
      ],
      "metadata": {
        "id": "TiXtMNaYVp_m"
      }
    },
    {
      "cell_type": "markdown",
      "source": [
        "There are many common functions in Pandas used for manipulating data in DataFrame. Some of the most commonly used ones include:\n",
        "\n",
        "1. head() and tail(): These functions are used to display the first or last few rows of the DataFrame, respectively. They are helpful for quickly inspecting the structure and content of the DataFrame.\n",
        "\n",
        "2. info() and describe(): info() provides a concise summary of the DataFrame including the data types, number of non-null values, and memory usage. describe() gives statistical information such as mean, median, min, max, etc. for numerical columns.\n",
        "\n",
        "3. drop(): This function is used to drop rows or columns from the DataFrame based on specified labels.\n",
        "\n",
        "4. rename(): It is used to rename columns or index labels in the DataFrame.\n",
        "\n",
        "5. fillna(): This function is used to fill missing values (NaNs) in the DataFrame with specified values.\n",
        "\n",
        "6. drop_duplicates(): It is used to remove duplicate rows from the DataFrame.\n",
        "\n",
        "7. groupby(): This function is used to group data based on some criteria and perform aggregate operations on each group.\n",
        "\n",
        "8. merge() and concat(): These functions are used to combine multiple DataFrames either by merging them based on common columns or by concatenating them along rows or columns.\n",
        "\n",
        "9. apply(): It applies a function along an axis of the DataFrame.\n",
        "\n",
        "10. sort_values() and sort_index(): These functions are used to sort the DataFrame by values or by index labels, respectively.\n",
        "\n",
        "11. pivot_table(): It creates a spreadsheet-style pivot table as a DataFrame.\n",
        "\n",
        "12. cut() and qcut(): These functions are used for binning data into discrete intervals.\n",
        "\n",
        "Here's an example of when you might use one of these functions:"
      ],
      "metadata": {
        "id": "-IvX5RIkV4j-"
      }
    },
    {
      "cell_type": "code",
      "source": [
        "import pandas as pd\n",
        "\n",
        "\n",
        "# Example DataFrame\n",
        "data = {\n",
        "    'Product ID': ['P001', 'P002', 'P003', 'P004'],\n",
        "    'Product Name': ['A', 'B', 'C', 'D'],\n",
        "    'Quantity Sold': [100, 0, 150, 0],\n",
        "    'Price': [10, 20, 15, 25]\n",
        "}\n",
        "\n",
        "df = pd.DataFrame(data)\n",
        "\n",
        "# Fill missing values in 'Quantity Sold' column with the mean quantity sold\n",
        "mean_quantity_sold = df['Quantity Sold'].mean()\n",
        "df['Quantity Sold'] = df['Quantity Sold'].fillna(mean_quantity_sold)\n",
        "\n",
        "print(df)"
      ],
      "metadata": {
        "colab": {
          "base_uri": "https://localhost:8080/"
        },
        "id": "GTSXedY_WMmf",
        "outputId": "fab88899-cf18-496c-dfa7-8b2049a860ec"
      },
      "execution_count": null,
      "outputs": [
        {
          "output_type": "stream",
          "name": "stdout",
          "text": [
            "  Product ID Product Name  Quantity Sold  Price\n",
            "0       P001            A            100     10\n",
            "1       P002            B              0     20\n",
            "2       P003            C            150     15\n",
            "3       P004            D              0     25\n"
          ]
        }
      ]
    },
    {
      "cell_type": "code",
      "source": [],
      "metadata": {
        "id": "eSSeZDs1XE3N"
      },
      "execution_count": null,
      "outputs": []
    },
    {
      "cell_type": "markdown",
      "source": [
        "6. Which of the following is mutable in nature Series ,DataFrame , Panel ?\n",
        "\n"
      ],
      "metadata": {
        "id": "uzxp3Xp_XIV4"
      }
    },
    {
      "cell_type": "markdown",
      "source": [
        "* Series: A Pandas Series is mutable, meaning you can modify its elements after creation. You can change values, add new elements, or remove existing ones from a Series.\n",
        "\n",
        "* DataFrame: Similarly, a Pandas DataFrame is also mutable. You can modify its values, add or remove rows or columns, or perform various other operations to manipulate the data in the DataFrame.\n",
        "\n",
        "* Panel: However, Pandas Panel objects are not mutable. Panels were a 3D data structure in Pandas for handling data with three dimensions: items, major_axis (rows), and minor_axis (columns). However, Panel has been deprecated since version 0.25.0 of Pandas, and it's recommended to use other data structures like DataFrame or MultiIndex instead. Regardless, Panels were not mutable."
      ],
      "metadata": {
        "id": "RLtLElIAXa_Y"
      }
    },
    {
      "cell_type": "code",
      "source": [],
      "metadata": {
        "id": "vjnoxSTYXnb9"
      },
      "execution_count": null,
      "outputs": []
    },
    {
      "cell_type": "markdown",
      "source": [
        "7. Create a DtataFrame using multiple series . Explain with an example ."
      ],
      "metadata": {
        "id": "8YaLid8rXoGP"
      }
    },
    {
      "cell_type": "markdown",
      "source": [
        "To create a DataFrame using multiple Series in Pandas, you can pass these Series as a dictionary to the pd.DataFrame() constructor. Each Series will become a column in the DataFrame, and their indices will align to form the DataFrame's index.\n",
        "\n",
        "Here's an example to illustrate creating a DataFrame using multiple Series:"
      ],
      "metadata": {
        "id": "24PtWoxyX9VW"
      }
    },
    {
      "cell_type": "code",
      "source": [
        "import pandas as pd\n",
        "\n",
        "# Define multiple Series\n",
        "s1 = pd.Series([1, 2, 3], name='A')\n",
        "s2 = pd.Series(['X', 'Y', 'Z'], name='B')\n",
        "s3 = pd.Series([True, False, True], name='C')\n",
        "\n",
        "# Create a DataFrame using the Series\n",
        "df = pd.DataFrame({'Column1': s1, 'Column2': s2, 'Column3': s3})\n",
        "\n",
        "# Print the DataFrame\n",
        "print(df)"
      ],
      "metadata": {
        "colab": {
          "base_uri": "https://localhost:8080/"
        },
        "id": "7Tf6ezTOYmKy",
        "outputId": "fe4d4822-4e2a-45a0-8ee3-623b051ba585"
      },
      "execution_count": null,
      "outputs": [
        {
          "output_type": "stream",
          "name": "stdout",
          "text": [
            "   Column1 Column2  Column3\n",
            "0        1       X     True\n",
            "1        2       Y    False\n",
            "2        3       Z     True\n"
          ]
        }
      ]
    },
    {
      "cell_type": "code",
      "source": [],
      "metadata": {
        "id": "C-utTB1qY_fA"
      },
      "execution_count": null,
      "outputs": []
    }
  ]
}