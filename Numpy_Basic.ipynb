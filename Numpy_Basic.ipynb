{
  "nbformat": 4,
  "nbformat_minor": 0,
  "metadata": {
    "colab": {
      "provenance": [],
      "authorship_tag": "ABX9TyN1zmVJO6ikEF0p58yet24m",
      "include_colab_link": true
    },
    "kernelspec": {
      "name": "python3",
      "display_name": "Python 3"
    },
    "language_info": {
      "name": "python"
    }
  },
  "cells": [
    {
      "cell_type": "markdown",
      "metadata": {
        "id": "view-in-github",
        "colab_type": "text"
      },
      "source": [
        "<a href=\"https://colab.research.google.com/github/DIVYA14797/pandas/blob/main/Numpy_Basic.ipynb\" target=\"_parent\"><img src=\"https://colab.research.google.com/assets/colab-badge.svg\" alt=\"Open In Colab\"/></a>"
      ]
    },
    {
      "cell_type": "code",
      "execution_count": null,
      "metadata": {
        "id": "MRL_a96mPffk"
      },
      "outputs": [],
      "source": []
    },
    {
      "cell_type": "markdown",
      "source": [
        "consider the below code to answer further questions:  \n",
        "import numpy as np  \n",
        "list_=['1','2','3','4','5']      \n",
        "array_list = np.array(object= list_)\n",
        "\n"
      ],
      "metadata": {
        "id": "mtQfK550VS1V"
      }
    },
    {
      "cell_type": "code",
      "source": [],
      "metadata": {
        "id": "FDcPvQpLVo8a"
      },
      "execution_count": null,
      "outputs": []
    },
    {
      "cell_type": "markdown",
      "source": [
        "1. Is there any difference in the data type of variables  list_ and array_list ? If there is  then write a code to print the data types of both the variables .\n"
      ],
      "metadata": {
        "id": "0N9u51bBV8Zu"
      }
    },
    {
      "cell_type": "markdown",
      "source": [
        "Yes, there is a difference in the data type of the variables list_ and array_list. The list_ variable contains elements of type string, while the array_list variable contains elements of type numpy.str_."
      ],
      "metadata": {
        "id": "yEa8OnM9WIOQ"
      }
    },
    {
      "cell_type": "code",
      "source": [
        "import numpy as np\n",
        "\n",
        "list_ = ['1', '2', '3', '4', '5']\n",
        "array_list = np.array(object=list_)\n",
        "\n",
        "print(\"Data type of list_ variable:\", type(list_[0]))\n",
        "print(\"Data type of array_list variable:\", type(array_list[0]))"
      ],
      "metadata": {
        "colab": {
          "base_uri": "https://localhost:8080/"
        },
        "id": "w0SMKAcbWJ1L",
        "outputId": "73afecde-49a0-4ace-cc78-3de37322c0c6"
      },
      "execution_count": null,
      "outputs": [
        {
          "output_type": "stream",
          "name": "stdout",
          "text": [
            "Data type of list_ variable: <class 'str'>\n",
            "Data type of array_list variable: <class 'numpy.str_'>\n"
          ]
        }
      ]
    },
    {
      "cell_type": "code",
      "source": [],
      "metadata": {
        "id": "jDyQYnLCWTIc"
      },
      "execution_count": null,
      "outputs": []
    },
    {
      "cell_type": "markdown",
      "source": [
        "2. Write the code to print the data type of each and every element of both the variables list_ and array_list .\n",
        "\n"
      ],
      "metadata": {
        "id": "BfagTnGDWTas"
      }
    },
    {
      "cell_type": "code",
      "source": [
        "import numpy as np\n",
        "\n",
        "list_ = ['1', '2', '3', '4', '5']\n",
        "array_list = np.array(object=list_)\n",
        "\n",
        "print(\"Data type of elements in list_:\")\n",
        "for element in list_:\n",
        "    print(type(element))\n",
        "\n",
        "print(\"\\nData type of elements in array_list:\")\n",
        "for element in array_list:\n",
        "    print(type(element))"
      ],
      "metadata": {
        "colab": {
          "base_uri": "https://localhost:8080/"
        },
        "id": "yr9RR96NWcwU",
        "outputId": "65d1cb08-d1c4-4a16-aa5c-ead9409c3309"
      },
      "execution_count": null,
      "outputs": [
        {
          "output_type": "stream",
          "name": "stdout",
          "text": [
            "Data type of elements in list_:\n",
            "<class 'str'>\n",
            "<class 'str'>\n",
            "<class 'str'>\n",
            "<class 'str'>\n",
            "<class 'str'>\n",
            "\n",
            "Data type of elements in array_list:\n",
            "<class 'numpy.str_'>\n",
            "<class 'numpy.str_'>\n",
            "<class 'numpy.str_'>\n",
            "<class 'numpy.str_'>\n",
            "<class 'numpy.str_'>\n"
          ]
        }
      ]
    },
    {
      "cell_type": "code",
      "source": [],
      "metadata": {
        "id": "ywkotmx0WgDR"
      },
      "execution_count": null,
      "outputs": []
    },
    {
      "cell_type": "markdown",
      "source": [
        "Considering the following changes in the variable , array_list :\n",
        "\n",
        "array_list =np.array(object=list_ , dtype =int)      ."
      ],
      "metadata": {
        "id": "zO8ZAIVUWgXH"
      }
    },
    {
      "cell_type": "markdown",
      "source": [
        " 3. Will there be any difference in the data type of the elements present in bioth the variables , list _ and arra_list ?  If  so then print the data types of each and every element present in both the variables , list_ and arra_list .\n",
        "\n"
      ],
      "metadata": {
        "id": "7aHF83rDW01B"
      }
    },
    {
      "cell_type": "markdown",
      "source": [
        "Yes, there will be a difference in the data types of the elements present in the variables list_ and array_list. When you specify dtype=int while creating array_list, NumPy will attempt to convert the elements of list_ to integers.\n",
        "\n"
      ],
      "metadata": {
        "id": "uSxoMrHiXLJK"
      }
    },
    {
      "cell_type": "code",
      "source": [
        "import numpy as np\n",
        "\n",
        "list_ = ['1', '2', '3', '4', '5']\n",
        "array_list = np.array(object=list_, dtype=int)\n",
        "\n",
        "print(\"Data type of elements in list_:\")\n",
        "for element in list_:\n",
        "    print(type(element))\n",
        "\n",
        "print(\"\\nData type of elements in array_list:\")\n",
        "for element in array_list:\n",
        "    print(type(element))"
      ],
      "metadata": {
        "colab": {
          "base_uri": "https://localhost:8080/"
        },
        "id": "YisMqXQRXNAu",
        "outputId": "61ab6f12-99a7-452d-e338-5b88fda19343"
      },
      "execution_count": null,
      "outputs": [
        {
          "output_type": "stream",
          "name": "stdout",
          "text": [
            "Data type of elements in list_:\n",
            "<class 'str'>\n",
            "<class 'str'>\n",
            "<class 'str'>\n",
            "<class 'str'>\n",
            "<class 'str'>\n",
            "\n",
            "Data type of elements in array_list:\n",
            "<class 'numpy.int64'>\n",
            "<class 'numpy.int64'>\n",
            "<class 'numpy.int64'>\n",
            "<class 'numpy.int64'>\n",
            "<class 'numpy.int64'>\n"
          ]
        }
      ]
    },
    {
      "cell_type": "code",
      "source": [],
      "metadata": {
        "id": "673H3UYMXS5r"
      },
      "execution_count": null,
      "outputs": []
    },
    {
      "cell_type": "markdown",
      "source": [
        "Consider the below code to answer further questions :    \n",
        "import numpy as np   \n",
        "num_list =[[1,2,3],[4,5,6,]]    \n",
        "num_array = np.array(object=num_list)      "
      ],
      "metadata": {
        "id": "7Z9K_OMXXTOx"
      }
    },
    {
      "cell_type": "markdown",
      "source": [
        "4.  Write a code to find the following characteristics of variable ,  num_array :\n",
        "\n",
        "(i) shape     \n",
        "(ii) size\n",
        "\n"
      ],
      "metadata": {
        "id": "WDbTze8gXjdM"
      }
    },
    {
      "cell_type": "code",
      "source": [
        "import numpy as np\n",
        "\n",
        "num_list = [[1, 2, 3], [4, 5, 6]]\n",
        "num_array = np.array(object=num_list)\n",
        "\n",
        "# (i) Shape\n",
        "print(\"Shape of num_array:\", num_array.shape)\n",
        "\n",
        "# (ii) Size\n",
        "print(\"Size of num_array:\", num_array.size)"
      ],
      "metadata": {
        "colab": {
          "base_uri": "https://localhost:8080/"
        },
        "id": "q5V031h3XzQg",
        "outputId": "37c2ffa4-052a-4975-8d5e-9ae28c945dd0"
      },
      "execution_count": null,
      "outputs": [
        {
          "output_type": "stream",
          "name": "stdout",
          "text": [
            "Shape of num_array: (2, 3)\n",
            "Size of num_array: 6\n"
          ]
        }
      ]
    },
    {
      "cell_type": "code",
      "source": [],
      "metadata": {
        "id": "wH7Mw4czX1tC"
      },
      "execution_count": null,
      "outputs": []
    },
    {
      "cell_type": "markdown",
      "source": [
        "5. Write a code to create numpy array of 3*3 matrix containing zeros only , using a numpy array creation function"
      ],
      "metadata": {
        "id": "KzCLk2uLX2LR"
      }
    },
    {
      "cell_type": "code",
      "source": [
        "import numpy as np\n",
        "\n",
        "# Create a 3x3 matrix of zeros\n",
        "zeros_array = np.zeros((3, 3))\n",
        "\n",
        "print(zeros_array)"
      ],
      "metadata": {
        "colab": {
          "base_uri": "https://localhost:8080/"
        },
        "id": "hK32c1OqYBKd",
        "outputId": "c9149c4a-feab-4a31-917b-2b2362a2b3fd"
      },
      "execution_count": null,
      "outputs": [
        {
          "output_type": "stream",
          "name": "stdout",
          "text": [
            "[[0. 0. 0.]\n",
            " [0. 0. 0.]\n",
            " [0. 0. 0.]]\n"
          ]
        }
      ]
    },
    {
      "cell_type": "code",
      "source": [],
      "metadata": {
        "id": "cQCiok-vYCIq"
      },
      "execution_count": null,
      "outputs": []
    },
    {
      "cell_type": "markdown",
      "source": [
        "6. Create an identity matrix of shape(5,5) using numpy functions?"
      ],
      "metadata": {
        "id": "bcEpTdnIYFKi"
      }
    },
    {
      "cell_type": "code",
      "source": [
        "import numpy as np\n",
        "\n",
        "# Create a 5x5 identity matrix\n",
        "identity_matrix = np.eye(5)\n",
        "\n",
        "print(identity_matrix)"
      ],
      "metadata": {
        "colab": {
          "base_uri": "https://localhost:8080/"
        },
        "id": "kbRDf2rHYOvC",
        "outputId": "8447daed-a670-481e-a751-4c606daded4d"
      },
      "execution_count": null,
      "outputs": [
        {
          "output_type": "stream",
          "name": "stdout",
          "text": [
            "[[1. 0. 0. 0. 0.]\n",
            " [0. 1. 0. 0. 0.]\n",
            " [0. 0. 1. 0. 0.]\n",
            " [0. 0. 0. 1. 0.]\n",
            " [0. 0. 0. 0. 1.]]\n"
          ]
        }
      ]
    },
    {
      "cell_type": "code",
      "source": [],
      "metadata": {
        "id": "oH2cW4z-YYR6"
      },
      "execution_count": null,
      "outputs": []
    }
  ]
}